{
 "cells": [
  {
   "cell_type": "markdown",
   "metadata": {},
   "source": [
    "# Rede Neural Artificial"
   ]
  },
  {
   "cell_type": "markdown",
   "metadata": {},
   "source": [
    "### Utilizadando as entrar OR e AND"
   ]
  },
  {
   "cell_type": "markdown",
   "metadata": {},
   "source": [
    "Para OR temos a tabela verdade\n",
    "\n",
    "| X1  | X2   | valor |\n",
    "| ----| -----| ----- |\n",
    "| 1   | 1    | 1     |\n",
    "| 1   | 0    | 1     |\n",
    "| 0   | 1    | 1     |\n",
    "| 0   | 0    | 0     |"
   ]
  },
  {
   "cell_type": "markdown",
   "metadata": {},
   "source": [
    "Para AND temos a tabela verdade\n",
    "\n",
    "| X1  | X2   | valor |\n",
    "| ----| -----| ----- |\n",
    "| 1   | 1    | 1     |\n",
    "| 1   | 0    | 0     |\n",
    "| 0   | 1    | 0     |\n",
    "| 0   | 0    | 0     |"
   ]
  },
  {
   "cell_type": "markdown",
   "metadata": {},
   "source": [
    "Sera usado neste exemplo somente 1 neuronio. Utilizando a função de ativação da ESCADA."
   ]
  },
  {
   "cell_type": "markdown",
   "metadata": {},
   "source": [
    "."
   ]
  },
  {
   "cell_type": "markdown",
   "metadata": {},
   "source": [
    "Definindo as entradas para OR"
   ]
  },
  {
   "cell_type": "code",
   "execution_count": 140,
   "metadata": {},
   "outputs": [],
   "source": [
    "entradas_or = [[0,0,1,1,1,0],[0,0,0,1,1,1],[0,1,1,0,1,0]]\n",
    "valor_esperado_or = [0,0,0,0,1,0]"
   ]
  },
  {
   "cell_type": "markdown",
   "metadata": {},
   "source": [
    "Definindo pesos e bias iniciais"
   ]
  },
  {
   "cell_type": "code",
   "execution_count": 141,
   "metadata": {},
   "outputs": [
    {
     "data": {
      "text/plain": [
       "([-1, -1, 3], -3)"
      ]
     },
     "execution_count": 141,
     "metadata": {},
     "output_type": "execute_result"
    }
   ],
   "source": [
    "import random\n",
    "\n",
    "peso = [random.randint(-5,5) for x in range(len(entradas_or))]\n",
    "bias = random.randint(-5,5)\n",
    "# peso =[5.099999999999999, 0.3999999999999984]\n",
    "# bias =-0.10000000000000081\n",
    "\n",
    "peso, bias"
   ]
  },
  {
   "cell_type": "markdown",
   "metadata": {},
   "source": [
    "Taxa de aprendizagem"
   ]
  },
  {
   "cell_type": "code",
   "execution_count": 142,
   "metadata": {},
   "outputs": [],
   "source": [
    "passo = 0.3"
   ]
  },
  {
   "cell_type": "markdown",
   "metadata": {},
   "source": [
    "Implementando a função degrau\n",
    "Pois a intenção é que a saida não fique distando do valor da entrada\n",
    "ou seja, como as entradas so podem ser 0 ou 1 a saida tem que ser\n",
    "0 ou 1"
   ]
  },
  {
   "cell_type": "code",
   "execution_count": 143,
   "metadata": {},
   "outputs": [],
   "source": [
    "def degrauFunc(saida):\n",
    "    if saida > 0:\n",
    "        return 1\n",
    "    else: \n",
    "        return 0"
   ]
  },
  {
   "cell_type": "markdown",
   "metadata": {},
   "source": [
    "Definindo a saida do neuronio"
   ]
  },
  {
   "cell_type": "code",
   "execution_count": 144,
   "metadata": {},
   "outputs": [],
   "source": [
    "def saidaFunc(entradas_or, peso, bias, index):\n",
    "    soma_pesos = [entradas_or[i][index] * peso[i] for i in range(len(peso))]\n",
    "    saida =  sum(soma_pesos) + bias\n",
    "    return degrauFunc(saida)"
   ]
  },
  {
   "cell_type": "markdown",
   "metadata": {},
   "source": [
    "Descobrindo o erro"
   ]
  },
  {
   "cell_type": "code",
   "execution_count": 145,
   "metadata": {},
   "outputs": [],
   "source": [
    "def erroFunc(saida, esperado):\n",
    "    return esperado - saida"
   ]
  },
  {
   "cell_type": "markdown",
   "metadata": {},
   "source": [
    "Função de ativação delta para novos pesos"
   ]
  },
  {
   "cell_type": "code",
   "execution_count": 146,
   "metadata": {},
   "outputs": [],
   "source": [
    "def deltaPFunc(e, p, entrada, index):\n",
    "    return [e * p * entrada[ent][index] for ent in range(len(entrada))]"
   ]
  },
  {
   "cell_type": "markdown",
   "metadata": {},
   "source": [
    "funçao ativação delta para novo bias"
   ]
  },
  {
   "cell_type": "code",
   "execution_count": 147,
   "metadata": {},
   "outputs": [],
   "source": [
    "def deltaBFunc(e, p):\n",
    "    return e * p"
   ]
  },
  {
   "cell_type": "markdown",
   "metadata": {},
   "source": [
    "Novo peso"
   ]
  },
  {
   "cell_type": "code",
   "execution_count": 148,
   "metadata": {},
   "outputs": [],
   "source": [
    "def novoPFunc(p, v_p):\n",
    "    return [p[i] + v_p[i] for i in range(len(p))]"
   ]
  },
  {
   "cell_type": "markdown",
   "metadata": {},
   "source": [
    "Main do programa"
   ]
  },
  {
   "cell_type": "code",
   "execution_count": 149,
   "metadata": {},
   "outputs": [
    {
     "name": "stdout",
     "output_type": "stream",
     "text": [
      "[-0.39999999999999997, -0.39999999999999997, 3.5999999999999996] -2.4000000000000004\n",
      "[-0.09999999999999998, -0.09999999999999998, 3.3] -2.7\n",
      "[0.2, 0.2, 3.3] -2.7\n",
      "[0.2, 0.5, 3.0] -3.0\n",
      "[0.2, 0.8, 3.0] -3.0\n",
      "[-0.09999999999999998, 0.8, 2.7] -3.3\n",
      "[-0.09999999999999998, 0.8, 2.7] -3.3\n",
      "[-0.09999999999999998, 0.8, 2.7] -3.3\n",
      "[-0.09999999999999998, 0.8, 2.7] -3.3\n",
      "[-0.09999999999999998, 0.8, 2.7] -3.3\n",
      "[-0.09999999999999998, 0.8, 2.7] -3.3\n",
      "[-0.09999999999999998, 0.8, 2.7] -3.3\n",
      "[-0.09999999999999998, 0.8, 2.7] -3.3\n",
      "[-0.09999999999999998, 0.8, 2.7] -3.3\n",
      "[-0.09999999999999998, 0.8, 2.7] -3.3\n",
      "[-0.09999999999999998, 0.8, 2.7] -3.3\n",
      "[-0.09999999999999998, 0.8, 2.7] -3.3\n",
      "[-0.09999999999999998, 0.8, 2.7] -3.3\n",
      "[-0.09999999999999998, 0.8, 2.7] -3.3\n",
      "[-0.09999999999999998, 0.8, 2.7] -3.3\n",
      "[-0.09999999999999998, 0.8, 2.7] -3.3\n",
      "[-0.09999999999999998, 0.8, 2.7] -3.3\n",
      "[-0.09999999999999998, 0.8, 2.7] -3.3\n",
      "[-0.09999999999999998, 0.8, 2.7] -3.3\n",
      "[-0.09999999999999998, 0.8, 2.7] -3.3\n",
      "[-0.09999999999999998, 0.8, 2.7] -3.3\n",
      "[-0.09999999999999998, 0.8, 2.7] -3.3\n",
      "[-0.09999999999999998, 0.8, 2.7] -3.3\n",
      "[-0.09999999999999998, 0.8, 2.7] -3.3\n",
      "[-0.09999999999999998, 0.8, 2.7] -3.3\n",
      "[-0.09999999999999998, 0.8, 2.7] -3.3\n",
      "[-0.09999999999999998, 0.8, 2.7] -3.3\n",
      "[-0.09999999999999998, 0.8, 2.7] -3.3\n",
      "[-0.09999999999999998, 0.8, 2.7] -3.3\n",
      "[-0.09999999999999998, 0.8, 2.7] -3.3\n",
      "[-0.09999999999999998, 0.8, 2.7] -3.3\n",
      "[-0.09999999999999998, 0.8, 2.7] -3.3\n",
      "[-0.09999999999999998, 0.8, 2.7] -3.3\n",
      "[-0.09999999999999998, 0.8, 2.7] -3.3\n",
      "[-0.09999999999999998, 0.8, 2.7] -3.3\n",
      "[-0.09999999999999998, 0.8, 2.7] -3.3\n",
      "[-0.09999999999999998, 0.8, 2.7] -3.3\n",
      "[-0.09999999999999998, 0.8, 2.7] -3.3\n",
      "[-0.09999999999999998, 0.8, 2.7] -3.3\n",
      "[-0.09999999999999998, 0.8, 2.7] -3.3\n",
      "[-0.09999999999999998, 0.8, 2.7] -3.3\n",
      "[-0.09999999999999998, 0.8, 2.7] -3.3\n",
      "[-0.09999999999999998, 0.8, 2.7] -3.3\n",
      "[-0.09999999999999998, 0.8, 2.7] -3.3\n",
      "[-0.09999999999999998, 0.8, 2.7] -3.3\n",
      "[-0.09999999999999998, 0.8, 2.7] -3.3\n",
      "[-0.09999999999999998, 0.8, 2.7] -3.3\n",
      "[-0.09999999999999998, 0.8, 2.7] -3.3\n",
      "[-0.09999999999999998, 0.8, 2.7] -3.3\n",
      "[-0.09999999999999998, 0.8, 2.7] -3.3\n",
      "[-0.09999999999999998, 0.8, 2.7] -3.3\n",
      "[-0.09999999999999998, 0.8, 2.7] -3.3\n",
      "[-0.09999999999999998, 0.8, 2.7] -3.3\n",
      "[-0.09999999999999998, 0.8, 2.7] -3.3\n",
      "[-0.09999999999999998, 0.8, 2.7] -3.3\n",
      "[-0.09999999999999998, 0.8, 2.7] -3.3\n",
      "[-0.09999999999999998, 0.8, 2.7] -3.3\n",
      "[-0.09999999999999998, 0.8, 2.7] -3.3\n",
      "[-0.09999999999999998, 0.8, 2.7] -3.3\n",
      "[-0.09999999999999998, 0.8, 2.7] -3.3\n",
      "[-0.09999999999999998, 0.8, 2.7] -3.3\n",
      "[-0.09999999999999998, 0.8, 2.7] -3.3\n",
      "[-0.09999999999999998, 0.8, 2.7] -3.3\n",
      "[-0.09999999999999998, 0.8, 2.7] -3.3\n",
      "[-0.09999999999999998, 0.8, 2.7] -3.3\n",
      "[-0.09999999999999998, 0.8, 2.7] -3.3\n",
      "[-0.09999999999999998, 0.8, 2.7] -3.3\n",
      "[-0.09999999999999998, 0.8, 2.7] -3.3\n",
      "[-0.09999999999999998, 0.8, 2.7] -3.3\n",
      "[-0.09999999999999998, 0.8, 2.7] -3.3\n",
      "[-0.09999999999999998, 0.8, 2.7] -3.3\n",
      "[-0.09999999999999998, 0.8, 2.7] -3.3\n",
      "[-0.09999999999999998, 0.8, 2.7] -3.3\n",
      "[-0.09999999999999998, 0.8, 2.7] -3.3\n",
      "[-0.09999999999999998, 0.8, 2.7] -3.3\n",
      "[-0.09999999999999998, 0.8, 2.7] -3.3\n",
      "[-0.09999999999999998, 0.8, 2.7] -3.3\n",
      "[-0.09999999999999998, 0.8, 2.7] -3.3\n",
      "[-0.09999999999999998, 0.8, 2.7] -3.3\n",
      "[-0.09999999999999998, 0.8, 2.7] -3.3\n",
      "[-0.09999999999999998, 0.8, 2.7] -3.3\n",
      "[-0.09999999999999998, 0.8, 2.7] -3.3\n",
      "[-0.09999999999999998, 0.8, 2.7] -3.3\n",
      "[-0.09999999999999998, 0.8, 2.7] -3.3\n",
      "[-0.09999999999999998, 0.8, 2.7] -3.3\n",
      "[-0.09999999999999998, 0.8, 2.7] -3.3\n",
      "[-0.09999999999999998, 0.8, 2.7] -3.3\n",
      "[-0.09999999999999998, 0.8, 2.7] -3.3\n",
      "[-0.09999999999999998, 0.8, 2.7] -3.3\n",
      "[-0.09999999999999998, 0.8, 2.7] -3.3\n",
      "[-0.09999999999999998, 0.8, 2.7] -3.3\n",
      "[-0.09999999999999998, 0.8, 2.7] -3.3\n",
      "[-0.09999999999999998, 0.8, 2.7] -3.3\n",
      "[-0.09999999999999998, 0.8, 2.7] -3.3\n",
      "[-0.09999999999999998, 0.8, 2.7] -3.3\n",
      "[-0.09999999999999998, 0.8, 2.7] -3.3\n"
     ]
    }
   ],
   "source": [
    "i = 0\n",
    "epoca = 0\n",
    "while True:\n",
    "    if epoca < 100:\n",
    "        saida_neuronio = saidaFunc(entradas_or, peso, bias, i)\n",
    "        if saida_neuronio == valor_esperado_or[i]:\n",
    "            i += 1\n",
    "        else:\n",
    "            erro = erroFunc(saida_neuronio, valor_esperado_or[i])\n",
    "            variacao_peso = deltaPFunc(erro, passo, entradas_or, i)\n",
    "            variacao_bias = deltaBFunc(erro, passo)\n",
    "            peso = novoPFunc(peso, variacao_peso)\n",
    "            bias = bias + variacao_bias\n",
    "        \n",
    "        if i > len(entradas_or[0])-1:\n",
    "            print(peso, bias)\n",
    "            epoca +=1\n",
    "            i = 0\n",
    "    else: \n",
    "        print(peso, bias)\n",
    "        break"
   ]
  },
  {
   "cell_type": "code",
   "execution_count": 160,
   "metadata": {},
   "outputs": [
    {
     "data": {
      "text/plain": [
       "0"
      ]
     },
     "execution_count": 160,
     "metadata": {},
     "output_type": "execute_result"
    }
   ],
   "source": [
    "def predictFunc(e,p,b):\n",
    "    i = 0\n",
    "    epoca = 0\n",
    "    saida = []\n",
    "    while True:\n",
    "        if epoca < 1:\n",
    "            saida_neuronio = saidaFunc(e, p, b, i)\n",
    "            saida.append(saida_neuronio)\n",
    "            i+=1\n",
    "            if i > len(e[0])-1:\n",
    "                epoca +=1\n",
    "                i = 0\n",
    "        else: \n",
    "            break\n",
    "    return saida\n",
    "\n",
    "val_entrada = [[int(input())] for i in range(len(entradas_or))]\n",
    "\n",
    "predicao = predictFunc(val_entrada, peso, bias)\n",
    "\n",
    "predicao[0]"
   ]
  }
 ],
 "metadata": {
  "kernelspec": {
   "display_name": "Python 3.8.10 64-bit",
   "language": "python",
   "name": "python3"
  },
  "language_info": {
   "codemirror_mode": {
    "name": "ipython",
    "version": 3
   },
   "file_extension": ".py",
   "mimetype": "text/x-python",
   "name": "python",
   "nbconvert_exporter": "python",
   "pygments_lexer": "ipython3",
   "version": "3.8.10"
  },
  "orig_nbformat": 4,
  "vscode": {
   "interpreter": {
    "hash": "31f2aee4e71d21fbe5cf8b01ff0e069b9275f58929596ceb00d14d90e3e16cd6"
   }
  }
 },
 "nbformat": 4,
 "nbformat_minor": 2
}
