{
 "cells": [
  {
   "cell_type": "markdown",
   "metadata": {},
   "source": [
    "# Rede Neural Artificial"
   ]
  },
  {
   "cell_type": "markdown",
   "metadata": {},
   "source": [
    "### Utilizadando as entrar OR e AND"
   ]
  },
  {
   "cell_type": "markdown",
   "metadata": {},
   "source": [
    "Para OR temos a tabela verdade\n",
    "\n",
    "| X1  | X2   | valor |\n",
    "| ----| -----| ----- |\n",
    "| 1   | 1    | 1     |\n",
    "| 1   | 0    | 1     |\n",
    "| 0   | 1    | 1     |\n",
    "| 0   | 0    | 0     |"
   ]
  },
  {
   "cell_type": "markdown",
   "metadata": {},
   "source": [
    "Para AND temos a tabela verdade\n",
    "\n",
    "| X1  | X2   | valor |\n",
    "| ----| -----| ----- |\n",
    "| 1   | 1    | 1     |\n",
    "| 1   | 0    | 0     |\n",
    "| 0   | 1    | 0     |\n",
    "| 0   | 0    | 0     |"
   ]
  },
  {
   "cell_type": "markdown",
   "metadata": {},
   "source": [
    "."
   ]
  },
  {
   "cell_type": "markdown",
   "metadata": {},
   "source": [
    "Definindo pesos e bias iniciais"
   ]
  },
  {
   "cell_type": "code",
   "execution_count": 34,
   "metadata": {},
   "outputs": [
    {
     "data": {
      "text/plain": [
       "(0, 1, 0)"
      ]
     },
     "execution_count": 34,
     "metadata": {},
     "output_type": "execute_result"
    }
   ],
   "source": [
    "import random\n",
    "\n",
    "peso1 = random.randint(0,1)\n",
    "peso2 = random.randint(0,1)\n",
    "bias = random.randint(0,1)\n",
    "\n",
    "peso1, peso2, bias"
   ]
  }
 ],
 "metadata": {
  "kernelspec": {
   "display_name": "Python 3.8.10 64-bit",
   "language": "python",
   "name": "python3"
  },
  "language_info": {
   "codemirror_mode": {
    "name": "ipython",
    "version": 3
   },
   "file_extension": ".py",
   "mimetype": "text/x-python",
   "name": "python",
   "nbconvert_exporter": "python",
   "pygments_lexer": "ipython3",
   "version": "3.8.10"
  },
  "orig_nbformat": 4,
  "vscode": {
   "interpreter": {
    "hash": "31f2aee4e71d21fbe5cf8b01ff0e069b9275f58929596ceb00d14d90e3e16cd6"
   }
  }
 },
 "nbformat": 4,
 "nbformat_minor": 2
}
