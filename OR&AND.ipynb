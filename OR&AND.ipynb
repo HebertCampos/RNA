{
 "cells": [
  {
   "cell_type": "markdown",
   "metadata": {},
   "source": [
    "# Rede Neural Artificial"
   ]
  },
  {
   "cell_type": "markdown",
   "metadata": {},
   "source": [
    "### Utilizadando as entrar OR e AND"
   ]
  },
  {
   "cell_type": "markdown",
   "metadata": {},
   "source": [
    "Para OR temos a tabela verdade\n",
    "\n",
    "| X1  | X2   | valor |\n",
    "| ----| -----| ----- |\n",
    "| 1   | 1    | 1     |\n",
    "| 1   | 0    | 1     |\n",
    "| 0   | 1    | 1     |\n",
    "| 0   | 0    | 0     |"
   ]
  },
  {
   "cell_type": "markdown",
   "metadata": {},
   "source": [
    "Para AND temos a tabela verdade\n",
    "\n",
    "| X1  | X2   | valor |\n",
    "| ----| -----| ----- |\n",
    "| 1   | 1    | 1     |\n",
    "| 1   | 0    | 0     |\n",
    "| 0   | 1    | 0     |\n",
    "| 0   | 0    | 0     |"
   ]
  },
  {
   "cell_type": "markdown",
   "metadata": {},
   "source": [
    "."
   ]
  },
  {
   "cell_type": "markdown",
   "metadata": {},
   "source": [
    "Definindo as entradas para OR"
   ]
  },
  {
   "cell_type": "code",
   "execution_count": 42,
   "metadata": {},
   "outputs": [],
   "source": [
    "entradas_or = [[1, 1, 0, 0],[1, 0, 1, 0]]\n",
    "valor_esperado_or = [1,1,1,0]"
   ]
  },
  {
   "cell_type": "markdown",
   "metadata": {},
   "source": [
    "Definindo pesos e bias iniciais"
   ]
  },
  {
   "cell_type": "code",
   "execution_count": 59,
   "metadata": {},
   "outputs": [
    {
     "data": {
      "text/plain": [
       "([-2, -4], -4)"
      ]
     },
     "execution_count": 59,
     "metadata": {},
     "output_type": "execute_result"
    }
   ],
   "source": [
    "import random\n",
    "\n",
    "peso = [random.randint(-5,5) for x in range(len(entradas_or))]\n",
    "bias = random.randint(-5,5)\n",
    "\n",
    "peso, bias"
   ]
  },
  {
   "cell_type": "markdown",
   "metadata": {},
   "source": [
    "Implementando a função degrau\n",
    "Pois a intenção é que a saida não fique distando do valor da entrada\n",
    "ou seja, como as entradas so podem ser 0 ou 1 a saida tem que ser\n",
    "0 ou 1"
   ]
  },
  {
   "cell_type": "code",
   "execution_count": 61,
   "metadata": {},
   "outputs": [],
   "source": [
    "def degrauFunc(saida):\n",
    "    if saida > 0:\n",
    "        return 1\n",
    "    else: \n",
    "        return 0"
   ]
  },
  {
   "cell_type": "markdown",
   "metadata": {},
   "source": [
    "Definindo a saida"
   ]
  },
  {
   "cell_type": "code",
   "execution_count": 62,
   "metadata": {},
   "outputs": [],
   "source": [
    "def saidaFunc(entradas_or, peso):\n",
    "    soma_pesos = [entradas_or[i] * peso[i] for i in range(len(peso))]\n",
    "    saida =  sum(soma_pesos) + bias\n",
    "    return degrauFunc(saida)"
   ]
  },
  {
   "cell_type": "code",
   "execution_count": null,
   "metadata": {},
   "outputs": [],
   "source": [
    "i = 0\n",
    "while True:\n",
    "    saida = saidaFunc(entradas_or[i], peso)\n",
    "    if saida == valor_esperado_or[i]:\n",
    "        i += 1\n",
    "    if i > 4:\n",
    "        break\n",
    "    "
   ]
  }
 ],
 "metadata": {
  "kernelspec": {
   "display_name": "Python 3.8.10 64-bit",
   "language": "python",
   "name": "python3"
  },
  "language_info": {
   "codemirror_mode": {
    "name": "ipython",
    "version": 3
   },
   "file_extension": ".py",
   "mimetype": "text/x-python",
   "name": "python",
   "nbconvert_exporter": "python",
   "pygments_lexer": "ipython3",
   "version": "3.8.10"
  },
  "orig_nbformat": 4,
  "vscode": {
   "interpreter": {
    "hash": "31f2aee4e71d21fbe5cf8b01ff0e069b9275f58929596ceb00d14d90e3e16cd6"
   }
  }
 },
 "nbformat": 4,
 "nbformat_minor": 2
}
